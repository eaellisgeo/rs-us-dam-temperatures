{
 "cells": [
  {
   "cell_type": "code",
   "execution_count": null,
   "id": "3dc7f654-6e79-4610-a06c-d98f2b5325f5",
   "metadata": {},
   "outputs": [],
   "source": [
    "################################################################################################\n",
    "### This code uses scripts adapted from RivWidthCloud for the GEE Python API to pull river surface temperatures ###\n",
    "#############################################################################################################\n",
    "### GOAL: Pull in the dams and areas of interest, get list of Landsat images, get dynamic centerlines, extract temperatures to a csv ###\n",
    "#############################################################################################################"
   ]
  },
  {
   "cell_type": "code",
   "execution_count": null,
   "id": "c7d2dccf-2353-4b49-98ce-0a8e6b280b4d",
   "metadata": {},
   "outputs": [],
   "source": [
    "# Import the packages needed\n",
    "import ee\n",
    "import geemap\n",
    "import pandas as pd\n",
    "import time\n",
    "from collections import defaultdict\n",
    "ee.Initialize()"
   ]
  },
  {
   "cell_type": "code",
   "execution_count": null,
   "id": "a6dd3bb6-0fb5-4816-9c1d-c985fee22086",
   "metadata": {},
   "outputs": [],
   "source": [
    "#####################\n",
    "### Prepare the data ###\n",
    "#####################"
   ]
  },
  {
   "cell_type": "code",
   "execution_count": null,
   "id": "637bf750-616d-4c82-bc48-a8f9561c5926",
   "metadata": {},
   "outputs": [],
   "source": [
    "##### Pull in Dam Locations in from GEE assets ########\n",
    "GrodDams = ee.FeatureCollection('Insert_GEE_Asset_Name_here') "
   ]
  },
  {
   "cell_type": "code",
   "execution_count": null,
   "id": "d8912c7e-13fe-4132-9f8b-c8cd518fb4da",
   "metadata": {},
   "outputs": [],
   "source": [
    "### Starting with SWORD River Nodes ###\n",
    "# Import the files for the river nodes from GEE assets\n",
    "rivernodes = ee.FeatureCollection('Insert_GEE_Asset_Name_here') ## Use Cleaned Version of the output from the R Script\n",
    "\n",
    "# Create a function to buffer all the river nodes and apply the function\n",
    "def bufferFun(f):\n",
    "  bufferPoint = f.buffer(30)\n",
    "  return(bufferPoint)\n",
    "\n",
    "# Apply buffer function\n",
    "rivernodes_buffer = rivernodes.map(bufferFun)"
   ]
  },
  {
   "cell_type": "code",
   "execution_count": null,
   "id": "9ecbf836-5c58-4904-b195-5380d66efff2",
   "metadata": {},
   "outputs": [],
   "source": [
    "### Dam Names ###\n",
    "# Get list of distinct dams for selecting and extracting for export\n",
    "# This will make sure that we are getting the same images as the temp extraction code\n",
    "dams = rivernodes.aggregate_array('Assgn_dam').distinct().getInfo()\n",
    "dams.sort()\n",
    "print('List of distinct dams:', dams)"
   ]
  },
  {
   "cell_type": "code",
   "execution_count": null,
   "id": "8cbe2ebd",
   "metadata": {},
   "outputs": [],
   "source": [
    "# Filter into Parts for processing\n",
    "dams = dams[:] #Update this as needed for a given run"
   ]
  },
  {
   "cell_type": "code",
   "execution_count": null,
   "id": "ee0e094f-c890-48c3-948b-5fa2292ab77c",
   "metadata": {},
   "outputs": [],
   "source": [
    "### Set Imagery Parameters ###\n",
    "# Add Earth Engine dataset\n",
    "TempProduct = ee.ImageCollection('LANDSAT/LC08/C02/T1_L2')\n",
    "\n",
    "# Set parameters for the images, update this as needed for a given run\n",
    "date_start = ee.Date('2013-03-01')\n",
    "date_end = ee.Date('2024-12-31')"
   ]
  },
  {
   "cell_type": "code",
   "execution_count": null,
   "id": "22e8f56e-50f3-42b3-82d0-e777edc8bfbb",
   "metadata": {},
   "outputs": [],
   "source": [
    "###############################################\n",
    "### Loop Thru Dams for Centerlines & Temperatures ###\n",
    "###############################################"
   ]
  },
  {
   "cell_type": "code",
   "execution_count": null,
   "id": "2c468211-c6be-4187-8b12-5838754288f2",
   "metadata": {},
   "outputs": [],
   "source": [
    "# Create a For Loop to go through list of the dams, select the points, run the RWC\n",
    "for i in range(len(dams)):\n",
    "    start_tot = time.time()\n",
    "    #Filter the dam locations\n",
    "    Dam_Point_filt = GrodDams.filter(ee.Filter.eq('grod_id', dams[i]))    \n",
    "    # Filter buffer to dam\n",
    "    Buffer_filt = rivernodes_buffer.filter(ee.Filter.eq('Assgn_dam', dams[i]))                        \n",
    "    # Filter the AOI to dam \n",
    "    Nodes_filt = rivernodes.filter(ee.Filter.eq('Assgn_dam', dams[i]))\n",
    "    # Get the bounds of the points\n",
    "    AOI = Nodes_filt.geometry().bounds()\n",
    "    \n",
    "    ## GET THE IMAGE LIST ##\n",
    "    # Filter the Image Collection with the defined parameters\n",
    "    LandsatTempProd = TempProduct.filterBounds(AOI).filterDate(date_start, date_end).filter(ee.Filter.lte('CLOUD_COVER', 10)).filterBounds(Dam_Point_filt)\n",
    "    # Make a list of the image ids needed for RivWidthCloud\n",
    "    LoopList = LandsatTempProd.aggregate_array('LANDSAT_PRODUCT_ID').distinct().getInfo()\n",
    "    # Convert to a datafram and append\n",
    "    LoopList_df = pd.DataFrame(LoopList)\n",
    "    \n",
    "    # Prep for Export to CSV (format for batch RivWidthCloud export)\n",
    "    LoopList_df.rename(columns={0:'LANDSAT_ID'}, inplace=True ) # naming the column\n",
    "    # save image to CSV file\n",
    "    LoopList_df.to_csv('River_Batch/Landsat_Ids_Dam'+ str(dams[i]) + '_extra' + '.csv', index=False) # One to keep\n",
    "\n",
    "    ## RUN RIVWIDTHCLOUD BATCH ##\n",
    "    for j in range(len(LoopList)):\n",
    "        DamNo = dams[i]\n",
    "        Filename = 'Dam '+ str(dams[i])\n",
    "        LandsatID = LoopList[j]\n",
    "        start = time.time()\n",
    "        %run RWC_Landsat_Temps.py $LandsatID -p -d 100000 -dam $DamNo\n",
    "        end = time.time()\n",
    "        print('Run Time: '+ str(((end-start) * 10**3)/60000) + 'min')\n",
    "    end_tot = time.time()\n",
    "    print('Dam '+ str(dams[i])+ ': RWC and Temp Complete \\n Total Run Time: '+ str(((end_tot-start_tot)* 10**3)/60000)+ 'min')\n",
    "\n",
    "    ### Note: Have to change export location in source code  -- Py file: RWC_Landsat_Temps , line 151-- ###\n",
    "    ### Note: Have to change export location in source code to update output message -- Py file: FC_to_Desktop , line 51-- ###"
   ]
  }
 ],
 "metadata": {
  "kernelspec": {
   "display_name": "ee",
   "language": "python",
   "name": "python3"
  },
  "language_info": {
   "codemirror_mode": {
    "name": "ipython",
    "version": 3
   },
   "file_extension": ".py",
   "mimetype": "text/x-python",
   "name": "python",
   "nbconvert_exporter": "python",
   "pygments_lexer": "ipython3",
   "version": "3.12.4"
  }
 },
 "nbformat": 4,
 "nbformat_minor": 5
}
