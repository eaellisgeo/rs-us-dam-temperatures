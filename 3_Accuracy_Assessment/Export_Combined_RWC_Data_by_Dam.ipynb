{
 "cells": [
  {
   "cell_type": "code",
   "execution_count": null,
   "metadata": {},
   "outputs": [],
   "source": [
    "# Import the packages needed\n",
    "import ee\n",
    "import pandas as pd\n",
    "import geopandas as gpd\n",
    "from shapely.geometry import Point, Polygon\n",
    "import glob\n",
    "import os\n",
    "import numpy as np\n",
    "from scipy.spatial import cKDTree\n",
    "\n",
    "# Initialize \n",
    "ee.Initialize()"
   ]
  },
  {
   "cell_type": "code",
   "execution_count": null,
   "metadata": {},
   "outputs": [],
   "source": [
    "## This code is used to pull in the RWC-Temp data,  snap it to its 5 closest SWORD Nodes, and save the CSV files ## "
   ]
  },
  {
   "cell_type": "code",
   "execution_count": null,
   "metadata": {},
   "outputs": [],
   "source": [
    "##################################\n",
    "###### Bring in & Prep the Data #######\n",
    "##################################"
   ]
  },
  {
   "cell_type": "code",
   "execution_count": null,
   "metadata": {},
   "outputs": [],
   "source": [
    "### Pull in Dams File ###\n",
    "Dams = gpd.read_file(r\"F:\\Insert_File_Path_of_Shapefile_with_Dam_Locations.shp\") # Update this file path\n",
    "\n",
    "# Create a list of  dams for loop \n",
    "Dams_List = Dams['grod_id'].tolist()\n",
    "Dams_List= list(map(int, Dams_List))"
   ]
  },
  {
   "cell_type": "code",
   "execution_count": null,
   "metadata": {},
   "outputs": [],
   "source": [
    "## Bring in SWORD Nodes \n",
    "SWORD_Nodes = gpd.read_file(r\"Insert_File_Path_of_the_Shapefile_Containing_the_Selected_SWORD_Nodes.shp\") # Update this file path\n",
    "\n",
    "## Prep the Data ## \n",
    "# Rename Width Column\n",
    "SWORD_Nodes.rename(columns={\"width\":\"SWD_wid\"}, inplace = True)\n",
    "\n",
    "# Convert Dam Distances to km\n",
    "SWORD_Nodes['Dam_Dist_km'] = SWORD_Nodes['Dam_Dist']/1000\n",
    "\n",
    "## Add in Upstream & Downstream flags\n",
    "# Define Up/DS Function\n",
    "def get_upds(Dam_Distance):\n",
    "    if Dam_Distance == 0 :\n",
    "        return 'Dam'\n",
    "    if Dam_Distance > 0: \n",
    "        return 'Downstream'\n",
    "    else:\n",
    "        return 'Upstream'\n",
    "\n",
    "# Apply Up/DS Function\n",
    "SWORD_Nodes['Up_Ds'] = SWORD_Nodes.Dam_Dist.map(get_upds)"
   ]
  },
  {
   "cell_type": "code",
   "execution_count": null,
   "metadata": {},
   "outputs": [],
   "source": [
    "# Set up the location of the RWC-Temp data\n",
    "FilePath = r\"Insert_File_Path_of_the_Temperature_Outputs_from_RWC\" # Update this file path"
   ]
  },
  {
   "cell_type": "code",
   "execution_count": null,
   "metadata": {},
   "outputs": [],
   "source": [
    "#### Define Functions ###\n",
    "#  Define Season Function\n",
    "def get_season(date):\n",
    "    year = str(date.year)\n",
    "    # Get the date string to use in the if statements\n",
    "    date_in = str(date)\n",
    "    # Format of the date_range (YYYY-MM-DD)\n",
    "    seasons = {'Spring': pd.date_range(start=year+'/03/01', end=year+'/05/31'),\n",
    "            'Summer': pd.date_range(start=year+'/06/01', end=year+'/08/31'),\n",
    "            'Fall': pd.date_range(start=year+'/09/01', end=year+'/11/30')}\n",
    "    if date_in in seasons['Spring']:\n",
    "        return 'Spring'\n",
    "    if date_in in seasons['Summer']:\n",
    "        return 'Summer'\n",
    "    if date_in in seasons['Fall']:\n",
    "        return 'Fall'\n",
    "    else:\n",
    "        return 'Winter'\n",
    "    \n",
    "# Define Nearest Node Function\n",
    "def Closest_Nodes(gdA, gdB):\n",
    "\n",
    "    nA = np.array(list(gdA.geometry.apply(lambda x: (x.x, x.y))))\n",
    "    nB = np.array(list(gdB.geometry.apply(lambda x: (x.x, x.y))))\n",
    "    btree = cKDTree(nB)\n",
    "    dist, idx = btree.query(nA, k=1)\n",
    "    gdB_nearest = gdB.iloc[idx].drop(columns=\"geometry\").reset_index(drop=True)\n",
    "    gdf = pd.concat(\n",
    "        [\n",
    "            gdA.reset_index(drop=True),\n",
    "            gdB_nearest,\n",
    "            pd.Series(dist, name='dist')\n",
    "        ], \n",
    "        axis=1)\n",
    "    return gdf"
   ]
  },
  {
   "cell_type": "code",
   "execution_count": null,
   "metadata": {},
   "outputs": [],
   "source": [
    "#### Create the Combined Dam CSV Files ###"
   ]
  },
  {
   "cell_type": "code",
   "execution_count": null,
   "metadata": {},
   "outputs": [],
   "source": [
    "## Loop thru the dams to pull in RWC-Temp csvs, combine, etc. \n",
    "for i in Dams_List[:]: # Update range for a given run's selection\n",
    "    # Filter SWORD Nodes for the Dam \n",
    "    SWORD_Nodes_Dam = SWORD_Nodes[(SWORD_Nodes['Assgn_dam'] == i)]\n",
    "\n",
    "    # Get a list of the CSV files for the dam\n",
    "    CSVFiles = glob.glob(os.path.join(FilePath, \"*_\"+ str(i)+\".csv\"))\n",
    "\n",
    "    # Loop through the files for each dam and make one dataframe\n",
    "    Combined_Dam = pd.DataFrame()\n",
    "    for j in range(len(CSVFiles)):\n",
    "        try:\n",
    "            x = pd.read_csv(CSVFiles[j])\n",
    "            Combined_Dam = pd.concat([Combined_Dam,x],axis=0)\n",
    "        except pd.errors.EmptyDataError:\n",
    "            print(CSVFiles[j], \" is empty and has been skipped.\") # Some of the images create blank csvs -- could be ice/clouds/mask issues\n",
    "    \n",
    "    ## If this is empty skip to next dam\n",
    "    if Combined_Dam.shape[0] == 0:\n",
    "        continue\n",
    "\n",
    "    #### Prep the RWC-TEMP Data ###\n",
    "    # Fix Date Time  -- GEE uses Unix  Epoch time\n",
    "    Combined_Dam['Date_Time'] = pd.to_datetime((Combined_Dam['GEE_time']/1000), unit = 's', utc=True)\n",
    "    Combined_Dam['Date'] = Combined_Dam['Date_Time'].map(pd.Timestamp.date)\n",
    "    Combined_Dam['Month'] = pd.DatetimeIndex(Combined_Dam['Date']).month\n",
    "    Combined_Dam['Year'] =  pd.DatetimeIndex(Combined_Dam['Date']).year\n",
    "\n",
    "    ## Add in Season\n",
    "    Combined_Dam['Season'] = Combined_Dam.Date.map(get_season)\n",
    "\n",
    "    ## Rename Width Column -- Clarity for Later\n",
    "    Combined_Dam.rename(columns={\"width\":\"RWC_wid\"}, inplace = True)\n",
    "\n",
    "    ## Filter out Ice\n",
    "    Combined_Dam_noice = Combined_Dam[Combined_Dam['GEE_temp']>0]\n",
    "\n",
    "    ## Make it a GDF\n",
    "    geometry = [Point(xy) for xy in zip(Combined_Dam_noice['longitude'], Combined_Dam_noice['latitude'])]\n",
    "    Combined_Dam_gdf = gpd.GeoDataFrame(Combined_Dam_noice, geometry=geometry, crs=\"EPSG:4326\")\n",
    "\n",
    "    ### Get Each RWC Node's Nearest SWORD node  ####\n",
    "    Nearest_Nodes = Closest_Nodes(Combined_Dam_gdf, SWORD_Nodes_Dam)\n",
    "\n",
    "    # Nearest Distance is calculated in Degrees b/c both gdf are in WGS 84 --> (Convert Degrees to meters * 111139)\n",
    "    Nearest_Nodes['NDist_m'] = Nearest_Nodes['dist']*111139\n",
    "\n",
    "    # Export to CSV\n",
    "    Export_File_Path = r\"F:\\Insert_File_Path_Here\"  # Update the Filepath here\n",
    "    Dam_Name = i\n",
    "    Nearest_Nodes.to_csv(Export_File_Path+r\"\\Dam_\"+ str(Dam_Name)+\"RWCT.csv\") ## Used in the Accuracy_Assessment.ipynb\n",
    "    print(\"CSV Exported: \"+ str(Dam_Name))"
   ]
  }
 ],
 "metadata": {
  "kernelspec": {
   "display_name": "ee",
   "language": "python",
   "name": "python3"
  },
  "language_info": {
   "codemirror_mode": {
    "name": "ipython",
    "version": 3
   },
   "file_extension": ".py",
   "mimetype": "text/x-python",
   "name": "python",
   "nbconvert_exporter": "python",
   "pygments_lexer": "ipython3",
   "version": "3.12.4"
  }
 },
 "nbformat": 4,
 "nbformat_minor": 2
}
